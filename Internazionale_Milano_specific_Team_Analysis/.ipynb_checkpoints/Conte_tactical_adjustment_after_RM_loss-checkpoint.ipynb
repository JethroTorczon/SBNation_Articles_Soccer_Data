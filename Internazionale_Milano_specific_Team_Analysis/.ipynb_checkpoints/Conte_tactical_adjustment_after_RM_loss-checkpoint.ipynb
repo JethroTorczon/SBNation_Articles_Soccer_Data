{
 "cells": [
  {
   "cell_type": "markdown",
   "metadata": {},
   "source": [
    "Tables:\n",
    "    \n",
    "    1. Scores & Fixtures\n",
    "    \n",
    "    2a. Shooting - FOR Inter\n",
    "    2b. Shooting - AGAINST\n",
    "    \n",
    "    3a. Possession - FOR\n",
    "    3b. Possession - AGAINST\n",
    "    \n",
    "    4a. Passing - FOR\n",
    "    4b. Passing - AGAINST\n",
    "    \n",
    "    5a. Defensive Actions - FOR\n",
    "    5b. Defensive Actions - AGAINST\n",
    "    "
   ]
  },
  {
   "cell_type": "code",
   "execution_count": null,
   "metadata": {},
   "outputs": [],
   "source": []
  }
 ],
 "metadata": {
  "kernelspec": {
   "display_name": "Python 3",
   "language": "python",
   "name": "python3"
  },
  "language_info": {
   "codemirror_mode": {
    "name": "ipython",
    "version": 3
   },
   "file_extension": ".py",
   "mimetype": "text/x-python",
   "name": "python",
   "nbconvert_exporter": "python",
   "pygments_lexer": "ipython3",
   "version": "3.8.5"
  }
 },
 "nbformat": 4,
 "nbformat_minor": 4
}
